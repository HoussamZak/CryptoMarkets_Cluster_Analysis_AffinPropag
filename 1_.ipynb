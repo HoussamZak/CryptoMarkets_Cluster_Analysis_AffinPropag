{
 "cells": [
  {
   "cell_type": "markdown",
   "metadata": {},
   "source": [
    "The goal is to interpret the cryptomarket with the help of the 2D map & overlay network obtainded with affinity propagation a better clustering technique.\n",
    "\n",
    "Clustering is an unsupervised learning tefchnique that aims to group similar objects into clusters while separating from different \n",
    "objects.Crypto being filled with real word data, prototype based clustering approaches are not the best approach given that the number of clusters is unknown and difficult to guess which is why we rely on affinity propagation an approach that automatically estimate the number of clusters. \n",
    "\n",
    "Affinity propagation identifies clusters by comparing data point with one another by measuring similarities, this approach selects cluster centers that represent other surrounding data points.\n",
    "\n",
    "***\n",
    "Make sure to have cmcScraper (pip install cryptocmd), pandas, NumPy, matplotlib & Seaborn installed"
   ]
  },
  {
   "cell_type": "code",
   "execution_count": 8,
   "metadata": {},
   "outputs": [],
   "source": [
    "# pip install cryptocmd"
   ]
  },
  {
   "cell_type": "markdown",
   "metadata": {},
   "source": [
    "STEPS:\n",
    "1/ Defining a list of cryptocurrencies of interest and download their price data from coinmarketcap using cmcscraper\n",
    "2/ Visualizing the historical price data for better understanding\n",
    "3/ Preparing and cleaning the data before clustering\n",
    "4/ Affinity propagation to cluster\n",
    "5/ Calculating covariances matrixes between clusters\n",
    "6/ Arranging cryptocurrencies on 2D map to create a network overlay based on covariance\n",
    "7/ Interpreting the crypto market map"
   ]
  },
  {
   "cell_type": "code",
   "execution_count": 7,
   "metadata": {},
   "outputs": [],
   "source": [
    "import pandas as pd\n",
    "import matplotlib.pyplot as plt\n",
    "import numpy as np\n",
    "import seaborn as sns\n",
    "\n",
    "from sklearn import cluster, covariance, manifold\n",
    "from cryptocmd import CmcScraper\n",
    "\n",
    "#Define the coins of interest in a dictionary\n",
    "\n",
    "symbols_dict = {\n",
    "    'BTC':'Bitcoin',\n",
    "    'ETH': 'Ethereum',\n",
    "    'XRP': 'Ripple',\n",
    "    'ADA': 'Cardano',\n",
    "    'KMD': 'Komodo',\n",
    "    'BNB': 'Binance Coin',\n",
    "    'DOGE': 'Doge Coin',\n",
    "    'LTC': 'Litecoin',\n",
    "    'USDT': 'Tether',\n",
    "    'ZRX': 'Zer0',\n",
    "    'BAT': 'Battoken',\n",
    "    'UNI': 'DOT',\n",
    "    'PSG': 'PSG Token',\n",
    "    'ACM': 'ACM Token',\n",
    "    'RSR': 'AS Roma Token',\n",
    "    'JUV': 'Juventus Token',\n",
    "    'ATM': 'Atletico Madrid Token',\n",
    "    'SOL': 'Solana',\n",
    "    'MATIC': 'Polygon',\n",
    "    'LINK': 'Link',\n",
    "    'ETC': 'Ethereum Classic', \n",
    "    'AVAX': 'Avalanche', \n",
    "    'DCR': 'Decred',\n",
    "    'WAVES': 'WAVES',\n",
    "    'VET' : 'Vechain', \n",
    "    'ARK' : 'ARK',\n",
    "    'BCH': 'Bitcoin Cash', \n",
    "    'ICP': 'Internet Computer', \n",
    "    'DGB': 'DigiByte',\n",
    "    'BTT': 'Bittorrent',\n",
    "    'CEL': 'Celsius',\n",
    "    'SNX': 'Synthetix', \n",
    "    'ENJ': 'Enjin',\n",
    "    'ZIL': 'Ziliqa',\n",
    "    'CHZ': 'Chiliz', \n",
    "    'THETA': 'Theta',\n",
    "    'XLM': 'Stellar Lumen', \n",
    "    'SYS': 'Sys Coin',\n",
    "    'LRC': 'Loopring',\n",
    "    'EOS': 'EOS', \n",
    "    'NEO': 'NEO',\n",
    "    'XRM': 'Monero'\n",
    "}\n",
    "\n",
    "def load_fresh_data_and_save(symbols_dict, save_path):\n",
    "    symbols, names = np.array(sorted(symbols_dict.items())).T\n",
    "    for symbol in symbols:\n",
    "\n",
    "        #Scraper initialization\n",
    "        scraper = CmcScraper(symbol)\n",
    "\n",
    "        df_coin_prices = scraper.get_datagramce()\n",
    "        df = pd.DataFrame()\n",
    "        print(f'Fetching prices for {symbol}')\n",
    "\n",
    "        df[symbol + '_Open'] = df_coin_prices['Open']\n",
    "        df[symbol + '_Close'] = df_coin_prices['Close']\n",
    "        df[symbol + '_Avg'] = (df_coin_prices['Close'] + df_coin_prices['Open']) / 2\n",
    "\n",
    "        df[symbol + '_p'] = (df_coin_prices['Open'] - df_coin_prices['Close']) / df_coin_prices['Open']\n",
    "\n",
    "        if symbol == symbols[0]:\n",
    "            df_crypto = df.copy()\n",
    "        else:\n",
    "            df_crypto = pd.merge(\n",
    "                left = df_crypto, right = df , how = \"outer\",\n",
    "                left_index = True, right_index = True)\n",
    "\n",
    "        filter_columns = [s for s in df_crypto.columns if '_p' in s]\n",
    "        X_df_filtered = df_crypto[filter_columns].copy()\n",
    "    X_df_filtered.to_csv(save_path + 'historical_crypto_prices.csv')\n",
    "    return names, symbols, X_df_filtered\n",
    "save_path = ''"
   ]
  }
 ],
 "metadata": {
  "interpreter": {
   "hash": "8691f65de227c2dd14ae9ac858e1fa0e22abdb1615ca6522899f00b2d15c28a2"
  },
  "kernelspec": {
   "display_name": "Python 3.8.5 64-bit",
   "language": "python",
   "name": "python3"
  },
  "language_info": {
   "codemirror_mode": {
    "name": "ipython",
    "version": 3
   },
   "file_extension": ".py",
   "mimetype": "text/x-python",
   "name": "python",
   "nbconvert_exporter": "python",
   "pygments_lexer": "ipython3",
   "version": "3.8.5"
  },
  "orig_nbformat": 4
 },
 "nbformat": 4,
 "nbformat_minor": 2
}
